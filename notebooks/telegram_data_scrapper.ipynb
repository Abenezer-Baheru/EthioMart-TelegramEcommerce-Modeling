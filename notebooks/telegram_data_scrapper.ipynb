{
 "cells": [
  {
   "cell_type": "code",
   "execution_count": 3,
   "metadata": {},
   "outputs": [],
   "source": [
    "from telethon import TelegramClient\n",
    "from telethon.tl.functions.messages import GetHistoryRequest\n",
    "from telethon.tl.types import PeerChannel\n",
    "from telethon.sessions import StringSession\n",
    "import csv\n",
    "import os\n",
    "from dotenv import load_dotenv\n",
    "import nest_asyncio\n",
    "import asyncio"
   ]
  },
  {
   "cell_type": "code",
   "execution_count": 4,
   "metadata": {},
   "outputs": [],
   "source": [
    "# Load environment variables once\n",
    "load_dotenv('.env')\n",
    "api_id = os.getenv('API_ID')\n",
    "api_hash = os.getenv('API_HASH')\n",
    "phone_number = os.getenv('PHONE_NUMBER')"
   ]
  },
  {
   "cell_type": "code",
   "execution_count": 5,
   "metadata": {},
   "outputs": [
    {
     "name": "stdout",
     "output_type": "stream",
     "text": [
      "Signed in successfully as Heaven is real; remember to not break the ToS or you will risk an account ban!\n",
      "Scraped data from @ZemenExpress and saved to ZemenExpress-data.csv\n",
      "Scraped data from @MerttEka and saved to MerttEka-data.csv\n",
      "Scraped data from @qnashcom and saved to qnashcom-data.csv\n",
      "Scraped data from @Leyueqa and saved to Leyueqa-data.csv\n",
      "Scraped data from @modernshoppingcenter and saved to modernshoppingcenter-data.csv\n"
     ]
    }
   ],
   "source": [
    "# Create the client with an in-memory session\n",
    "client = TelegramClient(StringSession(), api_id, api_hash)\n",
    "\n",
    "async def scrape_channel(client, channel_username):\n",
    "    entity = await client.get_entity(channel_username)\n",
    "    channel_title = entity.title  # Extract the channel's title\n",
    "    filename = f\"{channel_username[1:]}-data.csv\"  # Create a filename based on the channel username\n",
    "    with open(filename, 'w', newline='', encoding='utf-8') as f:\n",
    "        writer = csv.writer(f)\n",
    "        writer.writerow(['Channel Title', 'Channel Username', 'ID', 'Message', 'Date'])  # Include channel title in the header\n",
    "        async for message in client.iter_messages(entity, limit=5000):\n",
    "            # Write the channel title along with other data\n",
    "            writer.writerow([channel_title, channel_username, message.id, message.message, message.date])\n",
    "    print(f\"Scraped data from {channel_username} and saved to {filename}\")\n",
    "\n",
    "async def main():\n",
    "    # Start the client with the phone number\n",
    "    await client.start(phone=phone_number)\n",
    "\n",
    "    # List of channels to scrape\n",
    "    channels = [\n",
    "        '@ZemenExpress',\n",
    "        '@MerttEka',\n",
    "        '@qnashcom',\n",
    "        '@Leyueqa',\n",
    "        '@modernshoppingcenter'\n",
    "    ]\n",
    "\n",
    "    # Iterate over channels and scrape data into separate CSV files\n",
    "    for channel in channels:\n",
    "        await scrape_channel(client, channel)\n",
    "\n",
    "# Run the main function\n",
    "async def run():\n",
    "    async with client:\n",
    "        await main()\n",
    "\n",
    "# Handle the verification code input\n",
    "nest_asyncio.apply()\n",
    "loop = asyncio.get_event_loop()\n",
    "loop.run_until_complete(run())"
   ]
  }
 ],
 "metadata": {
  "kernelspec": {
   "display_name": ".venv",
   "language": "python",
   "name": "python3"
  },
  "language_info": {
   "codemirror_mode": {
    "name": "ipython",
    "version": 3
   },
   "file_extension": ".py",
   "mimetype": "text/x-python",
   "name": "python",
   "nbconvert_exporter": "python",
   "pygments_lexer": "ipython3",
   "version": "3.12.7"
  }
 },
 "nbformat": 4,
 "nbformat_minor": 2
}
